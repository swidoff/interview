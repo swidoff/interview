{
 "cells": [
  {
   "cell_type": "markdown",
   "metadata": {},
   "source": [
    "# Financial Time Series Generator"
   ]
  },
  {
   "cell_type": "code",
   "execution_count": 1,
   "metadata": {},
   "outputs": [],
   "source": [
    "from datetime import date\n",
    "from dataclasses import dataclass\n",
    "from typing import Callable, Optional, Dict, List\n",
    "import operator\n",
    "from sqlalchemy import *\n",
    "import sqlite3\n",
    "import pandas as pd\n",
    "engine = create_engine('sqlite+pysqlite:///data/interview.db', module=sqlite3)"
   ]
  },
  {
   "cell_type": "markdown",
   "metadata": {},
   "source": [
    "## Time Series Equation Language\n",
    "\n",
    "An equation describes the calculation at time $t$ for all stocks $i$ in the universe at time $t$. \n",
    "\n",
    "For example:\n",
    "\n",
    "* $Marketcap_{i,t} = market.close_{i,t} * market.shares_{i,t}$\n",
    "* $Earnings_{i, t} = \\sum_{\\tau=t-3q}^{t} fundamental.net\\_income_{i,\\tau}$ \n",
    "* $EarningsToPrice_{i,t} =  Earnings_{i,t} / Marketcap_{i,t}$\n",
    "* $FiftyTwoWeekRange_{i,t} = (p_{i,t} - min(\\{p_{i,t-51w},\\ldots,p_{i,t}\\})) / (max(\\{p_{i,t-51w},\\ldots,p_{i,t}\\}) - min(\\{p_{i,t-51w},\\ldots,p_{i,t}\\}))$\n",
    "\n",
    "## Task\n",
    "\n",
    "Write a program that evaluates an <i>abitrary</i> equation for a universe of stocks, drawing data from a market and fundamental database."
   ]
  },
  {
   "cell_type": "markdown",
   "metadata": {},
   "source": [
    "## Equation API"
   ]
  },
  {
   "cell_type": "code",
   "execution_count": 2,
   "metadata": {},
   "outputs": [],
   "source": [
    "class Equation(object):\n",
    "    \"\"\"Supertype of all equation objects.\"\"\"\n",
    "    pass\n",
    "\n",
    "\n",
    "@dataclass\n",
    "class Market(Equation):\n",
    "    \"\"\"Describes how to query a market item for stocks at time `t`.\"\"\"\n",
    "    item: str  # one of 'close' or 'shares'\n",
    "    periods: int = 1  # matches all periods in the range [t-periods+1, t] (inclusive) according to the frequency\n",
    "    freq: str = \"months\"  # determines the frequency of selection when periods > 1 (one of 'months' or 'weeks')\n",
    "    agg: Optional[str] = None  # the aggregation (by stock) to apply if periods > 1 (None, 'min' or 'max')\n",
    "\n",
    "\n",
    "@dataclass\n",
    "class Fundamental(Equation):\n",
    "    \"\"\"Describes how to query a fundamental item for stocks at time `t`.\"\"\"\n",
    "    item: str\n",
    "    quarters: int = 1  # matches all quarters in the range [t-quarters+1, t] (inclusive)\n",
    "    agg: Optional[str] = None  # the aggregation (by stock) to apply if quarters > 1 (None or 'sum')\n",
    "\n",
    "\n",
    "@dataclass\n",
    "class Ref(Equation):\n",
    "    \"\"\"References another equation.\"\"\"\n",
    "    name: str  # Equation name\n",
    "\n",
    "\n",
    "@dataclass\n",
    "class Op(Equation):\n",
    "    \"\"\"Applies a binary function to the results of the operands.\"\"\"\n",
    "    fn: Callable\n",
    "    lhs: Equation\n",
    "    rhs: Equation"
   ]
  },
  {
   "cell_type": "markdown",
   "metadata": {},
   "source": [
    "## Equation objects"
   ]
  },
  {
   "cell_type": "code",
   "execution_count": 3,
   "metadata": {},
   "outputs": [],
   "source": [
    "equations = {\n",
    "    'marketcap': Op(operator.mul, Market('close'), Market('shares')),\n",
    "    'earnings': Fundamental('net_income', quarters=4, agg='sum'),\n",
    "    'e2p': Op(operator.truediv, Ref('earnings'), Ref('marketcap')),\n",
    "    'range_52w': Op(operator.truediv,\n",
    "                    Op(operator.sub, \n",
    "                       Market('close'),\n",
    "                       Market('close', freq='weeks', periods=52, agg='min')),\n",
    "                    Op(operator.sub,\n",
    "                       Market('close', freq='weeks', periods=52, agg='max'),\n",
    "                       Market('close', freq='weeks', periods=52, agg='min'))\n",
    "                    )\n",
    "}"
   ]
  },
  {
   "cell_type": "markdown",
   "metadata": {},
   "source": [
    "## The `universe` table -- Effective date for stocks in investment universes (11000 rows)"
   ]
  },
  {
   "cell_type": "code",
   "execution_count": 4,
   "metadata": {},
   "outputs": [
    {
     "data": {
      "text/html": [
       "<div>\n",
       "<style scoped>\n",
       "    .dataframe tbody tr th:only-of-type {\n",
       "        vertical-align: middle;\n",
       "    }\n",
       "\n",
       "    .dataframe tbody tr th {\n",
       "        vertical-align: top;\n",
       "    }\n",
       "\n",
       "    .dataframe thead th {\n",
       "        text-align: right;\n",
       "    }\n",
       "</style>\n",
       "<table border=\"1\" class=\"dataframe\">\n",
       "  <thead>\n",
       "    <tr style=\"text-align: right;\">\n",
       "      <th></th>\n",
       "      <th>universe_name</th>\n",
       "      <th>primary_id</th>\n",
       "      <th>company_name</th>\n",
       "      <th>start_date</th>\n",
       "      <th>end_date</th>\n",
       "    </tr>\n",
       "  </thead>\n",
       "  <tbody>\n",
       "    <tr>\n",
       "      <th>0</th>\n",
       "      <td>BacktestUniverse</td>\n",
       "      <td>AAPL</td>\n",
       "      <td>APPLE COMPUTER INC</td>\n",
       "      <td>1995-12-31</td>\n",
       "      <td>2049-08-31</td>\n",
       "    </tr>\n",
       "    <tr>\n",
       "      <th>1</th>\n",
       "      <td>BacktestUniverse</td>\n",
       "      <td>AMAT</td>\n",
       "      <td>APPLIED MATLS INC</td>\n",
       "      <td>1995-12-31</td>\n",
       "      <td>2049-08-31</td>\n",
       "    </tr>\n",
       "    <tr>\n",
       "      <th>2</th>\n",
       "      <td>BacktestUniverse</td>\n",
       "      <td>AMZN</td>\n",
       "      <td>AMAZON COM INC</td>\n",
       "      <td>1997-09-30</td>\n",
       "      <td>2049-08-31</td>\n",
       "    </tr>\n",
       "    <tr>\n",
       "      <th>3</th>\n",
       "      <td>BacktestUniverse</td>\n",
       "      <td>GOOG</td>\n",
       "      <td>GOOGLE INC</td>\n",
       "      <td>2004-09-30</td>\n",
       "      <td>2049-08-31</td>\n",
       "    </tr>\n",
       "    <tr>\n",
       "      <th>4</th>\n",
       "      <td>BacktestUniverse</td>\n",
       "      <td>IBM</td>\n",
       "      <td>INTERNATIONAL BUSINESS MACHS</td>\n",
       "      <td>1995-12-31</td>\n",
       "      <td>2049-08-31</td>\n",
       "    </tr>\n",
       "  </tbody>\n",
       "</table>\n",
       "</div>"
      ],
      "text/plain": [
       "      universe_name primary_id                  company_name start_date  \\\n",
       "0  BacktestUniverse       AAPL            APPLE COMPUTER INC 1995-12-31   \n",
       "1  BacktestUniverse       AMAT             APPLIED MATLS INC 1995-12-31   \n",
       "2  BacktestUniverse       AMZN                AMAZON COM INC 1997-09-30   \n",
       "3  BacktestUniverse       GOOG                    GOOGLE INC 2004-09-30   \n",
       "4  BacktestUniverse        IBM  INTERNATIONAL BUSINESS MACHS 1995-12-31   \n",
       "\n",
       "    end_date  \n",
       "0 2049-08-31  \n",
       "1 2049-08-31  \n",
       "2 2049-08-31  \n",
       "3 2049-08-31  \n",
       "4 2049-08-31  "
      ]
     },
     "execution_count": 4,
     "metadata": {},
     "output_type": "execute_result"
    }
   ],
   "source": [
    "pd.read_sql(\n",
    "    \"select * from universe where universe_name = 'BacktestUniverse' and primary_id in ('AAPL', 'AMZN', 'GOOG', 'IBM', 'AMAT') order by primary_id\", \n",
    "    engine, parse_dates=['start_date', 'end_date'])"
   ]
  },
  {
   "cell_type": "markdown",
   "metadata": {},
   "source": [
    "* `universe_name` (PK) -- The name of the investment universe (there are two in the database)\n",
    "* `primary_id` (PK) -- The unique identifier of the stock over time\n",
    "* `company_name` -- The name of the company issuing the stock (not relevant to this problem)\n",
    "* `start_date` (PK) and `end_date` (PK) -- The dates on which the stock entered and left the universe (inclusive)"
   ]
  },
  {
   "cell_type": "markdown",
   "metadata": {},
   "source": [
    "## The `market` data table -- Monthly and weekly market data observations for all stocks from 2017-present"
   ]
  },
  {
   "cell_type": "code",
   "execution_count": 5,
   "metadata": {},
   "outputs": [
    {
     "data": {
      "text/html": [
       "<div>\n",
       "<style scoped>\n",
       "    .dataframe tbody tr th:only-of-type {\n",
       "        vertical-align: middle;\n",
       "    }\n",
       "\n",
       "    .dataframe tbody tr th {\n",
       "        vertical-align: top;\n",
       "    }\n",
       "\n",
       "    .dataframe thead th {\n",
       "        text-align: right;\n",
       "    }\n",
       "</style>\n",
       "<table border=\"1\" class=\"dataframe\">\n",
       "  <thead>\n",
       "    <tr style=\"text-align: right;\">\n",
       "      <th></th>\n",
       "      <th>date</th>\n",
       "      <th>primary_id</th>\n",
       "      <th>close</th>\n",
       "      <th>shares</th>\n",
       "    </tr>\n",
       "  </thead>\n",
       "  <tbody>\n",
       "    <tr>\n",
       "      <th>0</th>\n",
       "      <td>2019-01-04</td>\n",
       "      <td>AAPL</td>\n",
       "      <td>148.259995</td>\n",
       "      <td>4745.0</td>\n",
       "    </tr>\n",
       "    <tr>\n",
       "      <th>1</th>\n",
       "      <td>2019-01-11</td>\n",
       "      <td>AAPL</td>\n",
       "      <td>152.289993</td>\n",
       "      <td>4730.0</td>\n",
       "    </tr>\n",
       "    <tr>\n",
       "      <th>2</th>\n",
       "      <td>2019-01-18</td>\n",
       "      <td>AAPL</td>\n",
       "      <td>156.820007</td>\n",
       "      <td>4730.0</td>\n",
       "    </tr>\n",
       "    <tr>\n",
       "      <th>3</th>\n",
       "      <td>2019-01-25</td>\n",
       "      <td>AAPL</td>\n",
       "      <td>157.759995</td>\n",
       "      <td>4730.0</td>\n",
       "    </tr>\n",
       "    <tr>\n",
       "      <th>4</th>\n",
       "      <td>2019-01-31</td>\n",
       "      <td>AAPL</td>\n",
       "      <td>166.440002</td>\n",
       "      <td>4715.0</td>\n",
       "    </tr>\n",
       "  </tbody>\n",
       "</table>\n",
       "</div>"
      ],
      "text/plain": [
       "        date primary_id       close  shares\n",
       "0 2019-01-04       AAPL  148.259995  4745.0\n",
       "1 2019-01-11       AAPL  152.289993  4730.0\n",
       "2 2019-01-18       AAPL  156.820007  4730.0\n",
       "3 2019-01-25       AAPL  157.759995  4730.0\n",
       "4 2019-01-31       AAPL  166.440002  4715.0"
      ]
     },
     "execution_count": 5,
     "metadata": {},
     "output_type": "execute_result"
    }
   ],
   "source": [
    "pd.read_sql(\"\"\"select date, primary_id, close, shares from market where primary_id = 'AAPL' and date >= '2019-01-04 00:00:00.000000' and date <= '2019-01-31 00:00:00.000000'\"\"\", \n",
    "            engine, parse_dates=['date'])"
   ]
  },
  {
   "cell_type": "markdown",
   "metadata": {},
   "source": [
    "* `date` (PK) -- The date of the market observation (Fridays and last days of the months)\n",
    "* `primary_id` (PK) -- The unique identifier of the stock over time\n",
    "* `close` -- The end-of-day price for the stock (in dollars)\n",
    "* `shares` -- The number of shares outstanding (in millions of shares)"
   ]
  },
  {
   "cell_type": "markdown",
   "metadata": {},
   "source": [
    "## The `fundamental` table -- Quarterly financial statement data for all stocks from 2017-present"
   ]
  },
  {
   "cell_type": "code",
   "execution_count": 6,
   "metadata": {},
   "outputs": [
    {
     "data": {
      "text/html": [
       "<div>\n",
       "<style scoped>\n",
       "    .dataframe tbody tr th:only-of-type {\n",
       "        vertical-align: middle;\n",
       "    }\n",
       "\n",
       "    .dataframe tbody tr th {\n",
       "        vertical-align: top;\n",
       "    }\n",
       "\n",
       "    .dataframe thead th {\n",
       "        text-align: right;\n",
       "    }\n",
       "</style>\n",
       "<table border=\"1\" class=\"dataframe\">\n",
       "  <thead>\n",
       "    <tr style=\"text-align: right;\">\n",
       "      <th></th>\n",
       "      <th>date</th>\n",
       "      <th>primary_id</th>\n",
       "      <th>fpe_offset</th>\n",
       "      <th>total_revenue</th>\n",
       "      <th>total_operating_expense</th>\n",
       "      <th>net_income</th>\n",
       "      <th>total_assets</th>\n",
       "      <th>total_liabilities</th>\n",
       "      <th>total_equity</th>\n",
       "    </tr>\n",
       "  </thead>\n",
       "  <tbody>\n",
       "    <tr>\n",
       "      <th>0</th>\n",
       "      <td>2019-03-31</td>\n",
       "      <td>AAPL</td>\n",
       "      <td>-3</td>\n",
       "      <td>61137.0</td>\n",
       "      <td>45243.0</td>\n",
       "      <td>13822.0</td>\n",
       "      <td>367502.0</td>\n",
       "      <td>240624.0</td>\n",
       "      <td>126878.0</td>\n",
       "    </tr>\n",
       "    <tr>\n",
       "      <th>1</th>\n",
       "      <td>2019-03-31</td>\n",
       "      <td>AAPL</td>\n",
       "      <td>-2</td>\n",
       "      <td>53265.0</td>\n",
       "      <td>40653.0</td>\n",
       "      <td>11519.0</td>\n",
       "      <td>349197.0</td>\n",
       "      <td>234248.0</td>\n",
       "      <td>114949.0</td>\n",
       "    </tr>\n",
       "    <tr>\n",
       "      <th>2</th>\n",
       "      <td>2019-03-31</td>\n",
       "      <td>AAPL</td>\n",
       "      <td>-1</td>\n",
       "      <td>62900.0</td>\n",
       "      <td>46782.0</td>\n",
       "      <td>14125.0</td>\n",
       "      <td>365725.0</td>\n",
       "      <td>258578.0</td>\n",
       "      <td>107147.0</td>\n",
       "    </tr>\n",
       "    <tr>\n",
       "      <th>3</th>\n",
       "      <td>2019-03-31</td>\n",
       "      <td>AAPL</td>\n",
       "      <td>0</td>\n",
       "      <td>84310.0</td>\n",
       "      <td>60964.0</td>\n",
       "      <td>19965.0</td>\n",
       "      <td>373719.0</td>\n",
       "      <td>255827.0</td>\n",
       "      <td>117892.0</td>\n",
       "    </tr>\n",
       "  </tbody>\n",
       "</table>\n",
       "</div>"
      ],
      "text/plain": [
       "        date primary_id  fpe_offset  total_revenue  total_operating_expense  \\\n",
       "0 2019-03-31       AAPL          -3        61137.0                  45243.0   \n",
       "1 2019-03-31       AAPL          -2        53265.0                  40653.0   \n",
       "2 2019-03-31       AAPL          -1        62900.0                  46782.0   \n",
       "3 2019-03-31       AAPL           0        84310.0                  60964.0   \n",
       "\n",
       "   net_income  total_assets  total_liabilities  total_equity  \n",
       "0     13822.0      367502.0           240624.0      126878.0  \n",
       "1     11519.0      349197.0           234248.0      114949.0  \n",
       "2     14125.0      365725.0           258578.0      107147.0  \n",
       "3     19965.0      373719.0           255827.0      117892.0  "
      ]
     },
     "execution_count": 6,
     "metadata": {},
     "output_type": "execute_result"
    }
   ],
   "source": [
    "pd.read_sql(\"\"\"select * from fundamental where primary_id = 'AAPL' and date = '2019-03-31 00:00:00.000000'\"\"\", engine, parse_dates=['date'])"
   ]
  },
  {
   "cell_type": "markdown",
   "metadata": {},
   "source": [
    "* `date` (PK) -- The date of the quarterly observation (not necessarily the announcement date)\n",
    "* `primary_id` (PK) -- The unique identifier of the stock over time\n",
    "* `fpe_offset` (PK) -- Offset from the most recent period between 0 and -4 (0=most recent, -1=previous quarter, -2=two quarters ago, etc...) \n",
    "* the remaining columns correspond to top-level financial statement items"
   ]
  },
  {
   "cell_type": "markdown",
   "metadata": {},
   "source": [
    "## Helper Functions"
   ]
  },
  {
   "cell_type": "code",
   "execution_count": 7,
   "metadata": {},
   "outputs": [],
   "source": [
    "def to_sqlite_str(d: date) -> str:\n",
    "    \"\"\"Converts date to a sqlite str parameter (sqlite does not have a native DATE type).\"\"\"\n",
    "    return d.strftime('%Y-%m-%d 00:00:00.000000')\n",
    "\n",
    "\n",
    "def weeks(end: date, num: int) -> List[date]:\n",
    "    \"\"\"Returns list of `num` Fridays up to the supplied date (inclusive, if a Friday)\"\"\"\n",
    "    freq = pd.offsets.CustomBusinessDay(n=1, weekmask='Fri')\n",
    "    return list(d.date() for d in pd.date_range(end=end, periods=num, freq=freq))\n",
    "\n",
    "\n",
    "def months(end: date, num: int) -> List[date]:\n",
    "    \"\"\"Returns list of `num` month end dates up to the supplied date (inclusive, if a month end)\"\"\"\n",
    "    freq = pd.offsets.MonthEnd(n=1)\n",
    "    return list(d.date() for d in pd.date_range(end=end, periods=num, freq=freq))"
   ]
  },
  {
   "cell_type": "markdown",
   "metadata": {},
   "source": [
    "### DB Query Examples"
   ]
  },
  {
   "cell_type": "code",
   "execution_count": 8,
   "metadata": {},
   "outputs": [],
   "source": [
    "# Query using Pandas\n",
    "_ = pd.read_sql(\"select * from market limit 10\", engine, parse_dates=['date'])\n",
    "\n",
    "# Query using sqlalchemy (returns an iterable of tuples)\n",
    "_ = engine.execute(\"select * from market where date = :date limit 10\", date=date(2019, 1, 31))\n",
    "\n",
    "# Querying with a parameter to IN:\n",
    "query = text(\"select * from market where date in :dates\").bindparams(bindparam(\"dates\", expanding=True))\n",
    "_ = engine.execute(query, dates=[to_sqlite_str(d) for d in [date(2019, 1, 31), date(2019, 2, 28)]])"
   ]
  },
  {
   "cell_type": "markdown",
   "metadata": {},
   "source": [
    "## Solution"
   ]
  },
  {
   "cell_type": "code",
   "execution_count": 9,
   "metadata": {},
   "outputs": [],
   "source": [
    "from typing import Dict, List\n",
    "from datetime import date\n",
    "\n",
    "def calculate_t(name: str, universe: str, t: date, equations: Dict[str, Equation]):\n",
    "    \"\"\"\n",
    "    Calculates the equation `name` that appears in the supplied `equations` dictionary for the `universe` at time `t`. \n",
    "    \n",
    "    :name      maps to an equation in `equation`\n",
    "    :universe  the name of a universe in the universe table\n",
    "    :t         an end-of-quarter date (for example, date(2019, 3, 31))\n",
    "    :equations complete dictionary of equations, where any Ref refers to a name in the dictionary\n",
    "    :returns   a vector of values, one value for each name in the `universe` at time `t`\n",
    "    \"\"\"\n",
    "    pass"
   ]
  },
  {
   "cell_type": "code",
   "execution_count": 10,
   "metadata": {},
   "outputs": [],
   "source": [
    "calculate_t('marketcap', 'BacktestUniverse', date(2019, 3, 31), equations)"
   ]
  },
  {
   "cell_type": "code",
   "execution_count": 11,
   "metadata": {},
   "outputs": [],
   "source": [
    "calculate_t('e2p', 'BacktestUniverse', date(2019, 3, 31), equations)"
   ]
  },
  {
   "cell_type": "code",
   "execution_count": 12,
   "metadata": {},
   "outputs": [],
   "source": [
    "calculate_t('range_52w', 'BacktestUniverse', date(2019, 3, 31), equations)"
   ]
  }
 ],
 "metadata": {
  "kernelspec": {
   "display_name": "Python 3",
   "language": "python",
   "name": "python3"
  },
  "language_info": {
   "codemirror_mode": {
    "name": "ipython",
    "version": 3
   },
   "file_extension": ".py",
   "mimetype": "text/x-python",
   "name": "python",
   "nbconvert_exporter": "python",
   "pygments_lexer": "ipython3",
   "version": "3.7.2"
  }
 },
 "nbformat": 4,
 "nbformat_minor": 2
}
