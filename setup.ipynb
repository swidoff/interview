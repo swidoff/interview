{
 "cells": [
  {
   "cell_type": "code",
   "execution_count": 28,
   "metadata": {},
   "outputs": [],
   "source": [
    "import pandas as pd\n",
    "from sqlite3 import dbapi2 as sqlite\n",
    "from sqlalchemy import *\n",
    "engine = create_engine('sqlite+pysqlite:///data/interview.db', module=sqlite)"
   ]
  },
  {
   "cell_type": "code",
   "execution_count": 33,
   "metadata": {},
   "outputs": [],
   "source": [
    "universe_df = pd.read_pickle('data/universe.zip')"
   ]
  },
  {
   "cell_type": "code",
   "execution_count": 34,
   "metadata": {},
   "outputs": [
    {
     "data": {
      "text/plain": [
       "11449"
      ]
     },
     "execution_count": 34,
     "metadata": {},
     "output_type": "execute_result"
    }
   ],
   "source": [
    "len(universe_df)"
   ]
  },
  {
   "cell_type": "code",
   "execution_count": null,
   "metadata": {},
   "outputs": [],
   "source": [
    "fundamental_df = pd.read_pickle('data/fundamental.zip')"
   ]
  },
  {
   "cell_type": "code",
   "execution_count": 36,
   "metadata": {},
   "outputs": [
    {
     "data": {
      "text/plain": [
       "634700"
      ]
     },
     "execution_count": 36,
     "metadata": {},
     "output_type": "execute_result"
    }
   ],
   "source": [
    "len(fundamental_df)"
   ]
  },
  {
   "cell_type": "code",
   "execution_count": null,
   "metadata": {},
   "outputs": [],
   "source": [
    "market_df = pd.read_pickle('data/market.zip')"
   ]
  },
  {
   "cell_type": "code",
   "execution_count": 37,
   "metadata": {},
   "outputs": [
    {
     "data": {
      "text/plain": [
       "11342118"
      ]
     },
     "execution_count": 37,
     "metadata": {},
     "output_type": "execute_result"
    }
   ],
   "source": [
    "len(market_df)"
   ]
  },
  {
   "cell_type": "code",
   "execution_count": 39,
   "metadata": {},
   "outputs": [],
   "source": [
    "metadata = MetaData()\n",
    "universe = Table(\"universe\", metadata,\n",
    "    Column('universe_name', Text, nullable=False, primary_key=True),                 \n",
    "    Column('primary_id', Text, nullable=False, primary_key=True),\n",
    "    Column('company_name', Text, nullable=True),\n",
    "    Column('start_date', Date, nullable=False, primary_key=True),\n",
    "    Column('end_date', Date, nullable=False, primary_key=True)\n",
    ")\n",
    "\n",
    "fundamental = Table(\"fundamental\", metadata, *([\n",
    "    Column('date', Date, nullable=False, primary_key=True),                 \n",
    "    Column('primary_id', Text, nullable=False, primary_key=True),\n",
    "    Column('fpe_offset', Integer, nullable=False, primary_key=True)\n",
    "    ] +  [Column(i, Float, nullable=True) for i in fundamental_df.columns])\n",
    ")\n",
    "\n",
    "market = Table(\"market\", metadata,\n",
    "    Column('date', Date, nullable=False, primary_key=True),                 \n",
    "    Column('primary_id', Text, nullable=False, primary_key=True),\n",
    "    Column('close', Float),\n",
    "    Column('shares', Float),\n",
    "    Column('return_idx', Float),\n",
    "    Column('split_factor', Float)\n",
    ")\n",
    "\n",
    "metadata.create_all(engine, checkfirst=True)"
   ]
  },
  {
   "cell_type": "code",
   "execution_count": null,
   "metadata": {},
   "outputs": [],
   "source": [
    "universe_df.to_sql('universe', engine, if_exists='append', index=False)"
   ]
  },
  {
   "cell_type": "code",
   "execution_count": 41,
   "metadata": {},
   "outputs": [],
   "source": [
    "fundamental_df.reset_index().rename({'build_date': 'date'}, axis=1).to_sql('fundamental', engine, if_exists='append', index=False)"
   ]
  },
  {
   "cell_type": "code",
   "execution_count": 32,
   "metadata": {},
   "outputs": [],
   "source": [
    "market_df.reset_index().to_sql('market', engine, if_exists='append', index=False)"
   ]
  },
  {
   "cell_type": "code",
   "execution_count": 19,
   "metadata": {},
   "outputs": [],
   "source": [
    "fundamental_df = pd.read_sql(\"select * from fundamental\", engine, parse_dates=['date'])"
   ]
  },
  {
   "cell_type": "code",
   "execution_count": 47,
   "metadata": {},
   "outputs": [],
   "source": [
    "new_fundamental_df = (\n",
    "    fundamental_df.loc[fundamental_df.date >= pd.Timestamp(2017, 1, 1), ['date', 'primary_id', 'fpe_offset', 'RTLR', 'ETOE', 'NINC', 'ATOT', 'LTLL', 'QTLE']]\n",
    "    .rename({'RTLR': 'total_revenue', 'ETOE': 'total_operating_expense', 'NINC': 'net_income', 'ATOT': 'total_assets', 'LTLL': 'total_liabilities', 'QTLE': 'total_equity'}, axis=1)\n",
    "    .sort_values(by=['date', 'primary_id', 'fpe_offset'])\n",
    ")"
   ]
  },
  {
   "cell_type": "code",
   "execution_count": 32,
   "metadata": {},
   "outputs": [
    {
     "data": {
      "text/html": [
       "<div>\n",
       "<style scoped>\n",
       "    .dataframe tbody tr th:only-of-type {\n",
       "        vertical-align: middle;\n",
       "    }\n",
       "\n",
       "    .dataframe tbody tr th {\n",
       "        vertical-align: top;\n",
       "    }\n",
       "\n",
       "    .dataframe thead th {\n",
       "        text-align: right;\n",
       "    }\n",
       "</style>\n",
       "<table border=\"1\" class=\"dataframe\">\n",
       "  <thead>\n",
       "    <tr style=\"text-align: right;\">\n",
       "      <th></th>\n",
       "      <th>date</th>\n",
       "      <th>primary_id</th>\n",
       "      <th>fpe_offset</th>\n",
       "      <th>total_revenue</th>\n",
       "      <th>total_operating_expense</th>\n",
       "      <th>net_income</th>\n",
       "      <th>total_assets</th>\n",
       "      <th>total_liabilities</th>\n",
       "      <th>total_equity</th>\n",
       "    </tr>\n",
       "  </thead>\n",
       "  <tbody>\n",
       "    <tr>\n",
       "      <th>508069</th>\n",
       "      <td>2015-03-31</td>\n",
       "      <td>00030710</td>\n",
       "      <td>-3</td>\n",
       "      <td>30.083</td>\n",
       "      <td>28.231</td>\n",
       "      <td>1.019</td>\n",
       "      <td>89.557</td>\n",
       "      <td>75.594</td>\n",
       "      <td>13.963</td>\n",
       "    </tr>\n",
       "    <tr>\n",
       "      <th>508070</th>\n",
       "      <td>2015-03-31</td>\n",
       "      <td>00030710</td>\n",
       "      <td>-2</td>\n",
       "      <td>29.120</td>\n",
       "      <td>28.325</td>\n",
       "      <td>0.717</td>\n",
       "      <td>93.752</td>\n",
       "      <td>67.344</td>\n",
       "      <td>26.408</td>\n",
       "    </tr>\n",
       "    <tr>\n",
       "      <th>508071</th>\n",
       "      <td>2015-03-31</td>\n",
       "      <td>00030710</td>\n",
       "      <td>-1</td>\n",
       "      <td>36.599</td>\n",
       "      <td>32.153</td>\n",
       "      <td>2.458</td>\n",
       "      <td>102.141</td>\n",
       "      <td>73.117</td>\n",
       "      <td>29.024</td>\n",
       "    </tr>\n",
       "    <tr>\n",
       "      <th>508072</th>\n",
       "      <td>2015-03-31</td>\n",
       "      <td>00030710</td>\n",
       "      <td>0</td>\n",
       "      <td>37.166</td>\n",
       "      <td>33.559</td>\n",
       "      <td>3.354</td>\n",
       "      <td>145.952</td>\n",
       "      <td>48.478</td>\n",
       "      <td>97.474</td>\n",
       "    </tr>\n",
       "    <tr>\n",
       "      <th>504722</th>\n",
       "      <td>2015-03-31</td>\n",
       "      <td>00174410</td>\n",
       "      <td>-3</td>\n",
       "      <td>240.881</td>\n",
       "      <td>225.412</td>\n",
       "      <td>7.630</td>\n",
       "      <td>594.436</td>\n",
       "      <td>369.555</td>\n",
       "      <td>224.881</td>\n",
       "    </tr>\n",
       "  </tbody>\n",
       "</table>\n",
       "</div>"
      ],
      "text/plain": [
       "             date primary_id  fpe_offset  total_revenue  \\\n",
       "508069 2015-03-31   00030710          -3         30.083   \n",
       "508070 2015-03-31   00030710          -2         29.120   \n",
       "508071 2015-03-31   00030710          -1         36.599   \n",
       "508072 2015-03-31   00030710           0         37.166   \n",
       "504722 2015-03-31   00174410          -3        240.881   \n",
       "\n",
       "        total_operating_expense  net_income  total_assets  total_liabilities  \\\n",
       "508069                   28.231       1.019        89.557             75.594   \n",
       "508070                   28.325       0.717        93.752             67.344   \n",
       "508071                   32.153       2.458       102.141             73.117   \n",
       "508072                   33.559       3.354       145.952             48.478   \n",
       "504722                  225.412       7.630       594.436            369.555   \n",
       "\n",
       "        total_equity  \n",
       "508069        13.963  \n",
       "508070        26.408  \n",
       "508071        29.024  \n",
       "508072        97.474  \n",
       "504722       224.881  "
      ]
     },
     "execution_count": 32,
     "metadata": {},
     "output_type": "execute_result"
    }
   ],
   "source": [
    "new_fundamental_df.head()"
   ]
  },
  {
   "cell_type": "code",
   "execution_count": 35,
   "metadata": {},
   "outputs": [],
   "source": [
    "market_df = pd.read_sql(\"select * from market\", engine, parse_dates=['date'])"
   ]
  },
  {
   "cell_type": "code",
   "execution_count": 40,
   "metadata": {},
   "outputs": [],
   "source": [
    "new_market_df = (\n",
    "    market_df.loc[market_df.date >= pd.Timestamp(2017, 1, 1), :]\n",
    "    .sort_values(by=['date', 'primary_id'])\n",
    ")"
   ]
  },
  {
   "cell_type": "code",
   "execution_count": 44,
   "metadata": {},
   "outputs": [],
   "source": [
    "universe_df = pd.read_sql(\"select * from universe\", engine, parse_dates=['start_date', 'end_date'])"
   ]
  },
  {
   "cell_type": "code",
   "execution_count": 45,
   "metadata": {},
   "outputs": [
    {
     "data": {
      "text/html": [
       "<div>\n",
       "<style scoped>\n",
       "    .dataframe tbody tr th:only-of-type {\n",
       "        vertical-align: middle;\n",
       "    }\n",
       "\n",
       "    .dataframe tbody tr th {\n",
       "        vertical-align: top;\n",
       "    }\n",
       "\n",
       "    .dataframe thead th {\n",
       "        text-align: right;\n",
       "    }\n",
       "</style>\n",
       "<table border=\"1\" class=\"dataframe\">\n",
       "  <thead>\n",
       "    <tr style=\"text-align: right;\">\n",
       "      <th></th>\n",
       "      <th>universe_name</th>\n",
       "      <th>primary_id</th>\n",
       "      <th>company_name</th>\n",
       "      <th>start_date</th>\n",
       "      <th>end_date</th>\n",
       "    </tr>\n",
       "  </thead>\n",
       "  <tbody>\n",
       "    <tr>\n",
       "      <th>0</th>\n",
       "      <td>BacktestUniverse</td>\n",
       "      <td>00079410</td>\n",
       "      <td>A C C CORP</td>\n",
       "      <td>1995-12-31</td>\n",
       "      <td>1998-06-29</td>\n",
       "    </tr>\n",
       "    <tr>\n",
       "      <th>1</th>\n",
       "      <td>BacktestUniverse</td>\n",
       "      <td>00107310</td>\n",
       "      <td>AG ASSOCS INC</td>\n",
       "      <td>1995-12-31</td>\n",
       "      <td>1996-03-30</td>\n",
       "    </tr>\n",
       "    <tr>\n",
       "      <th>2</th>\n",
       "      <td>BacktestUniverse</td>\n",
       "      <td>00190710</td>\n",
       "      <td>A S T RESEARCH INC</td>\n",
       "      <td>1995-12-31</td>\n",
       "      <td>1997-09-29</td>\n",
       "    </tr>\n",
       "    <tr>\n",
       "      <th>3</th>\n",
       "      <td>BacktestUniverse</td>\n",
       "      <td>00192010</td>\n",
       "      <td>ARCO CHEMICAL CO</td>\n",
       "      <td>1995-12-31</td>\n",
       "      <td>1998-09-29</td>\n",
       "    </tr>\n",
       "    <tr>\n",
       "      <th>4</th>\n",
       "      <td>BacktestUniverse</td>\n",
       "      <td>00202M10</td>\n",
       "      <td>AMERICAN PRESIDENT COS LTD</td>\n",
       "      <td>1995-12-31</td>\n",
       "      <td>1997-12-30</td>\n",
       "    </tr>\n",
       "  </tbody>\n",
       "</table>\n",
       "</div>"
      ],
      "text/plain": [
       "      universe_name primary_id                company_name start_date  \\\n",
       "0  BacktestUniverse   00079410                  A C C CORP 1995-12-31   \n",
       "1  BacktestUniverse   00107310               AG ASSOCS INC 1995-12-31   \n",
       "2  BacktestUniverse   00190710          A S T RESEARCH INC 1995-12-31   \n",
       "3  BacktestUniverse   00192010            ARCO CHEMICAL CO 1995-12-31   \n",
       "4  BacktestUniverse   00202M10  AMERICAN PRESIDENT COS LTD 1995-12-31   \n",
       "\n",
       "    end_date  \n",
       "0 1998-06-29  \n",
       "1 1996-03-30  \n",
       "2 1997-09-29  \n",
       "3 1998-09-29  \n",
       "4 1997-12-30  "
      ]
     },
     "execution_count": 45,
     "metadata": {},
     "output_type": "execute_result"
    }
   ],
   "source": [
    "universe_df.head()"
   ]
  },
  {
   "cell_type": "code",
   "execution_count": 48,
   "metadata": {},
   "outputs": [],
   "source": [
    "engine2 = create_engine('sqlite+pysqlite:///data/interview2.db', module=sqlite)"
   ]
  },
  {
   "cell_type": "code",
   "execution_count": 49,
   "metadata": {},
   "outputs": [],
   "source": [
    "new_fundamental_df.to_sql('fundamental', engine2, if_exists='replace', index=False)"
   ]
  },
  {
   "cell_type": "code",
   "execution_count": 50,
   "metadata": {},
   "outputs": [],
   "source": [
    "new_market_df.to_sql('market', engine2, if_exists='replace', index=False)"
   ]
  },
  {
   "cell_type": "code",
   "execution_count": 51,
   "metadata": {},
   "outputs": [],
   "source": [
    "universe_df.to_sql('universe', engine2, if_exists='replace', index=False)"
   ]
  },
  {
   "cell_type": "code",
   "execution_count": null,
   "metadata": {},
   "outputs": [],
   "source": []
  }
 ],
 "metadata": {
  "kernelspec": {
   "display_name": "Python 3",
   "language": "python",
   "name": "python3"
  },
  "language_info": {
   "codemirror_mode": {
    "name": "ipython",
    "version": 3
   },
   "file_extension": ".py",
   "mimetype": "text/x-python",
   "name": "python",
   "nbconvert_exporter": "python",
   "pygments_lexer": "ipython3",
   "version": "3.7.2"
  }
 },
 "nbformat": 4,
 "nbformat_minor": 2
}
